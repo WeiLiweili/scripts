{
 "cells": [
  {
   "cell_type": "code",
   "execution_count": 40,
   "metadata": {
    "collapsed": true
   },
   "outputs": [],
   "source": [
    "import pandas as pd\n",
    "from io import StringIO\n",
    "import csv"
   ]
  },
  {
   "cell_type": "code",
   "execution_count": 51,
   "metadata": {
    "collapsed": true
   },
   "outputs": [],
   "source": [
    "def make_POSCAR(iteration,outcar=\"OUTCAR\",headings_file=\"POSCAR\",fileout=\"POSCAR_\"):\n",
    "    \n",
    "    # read in data from outcar and extract list of atomic positions at a given ionic step\n",
    "    data = open(outcar,'r').read()\n",
    "    data = data.split(\"Iteration   \"+str(iteration),1)[-1].split(\"total drift,1\")[-1].split(\"total drift\")[0].split(\"Angst)\")[-1]\n",
    "    df = pd.read_csv(StringIO(data),delimiter=\"\\n\",names=\"r\",skiprows=2)\n",
    "    positions = [df.r[i].split()[:3] for i in range(df.r.count()-1)]\n",
    "    \n",
    "    # read the POSCAR heading information and write to new fileout\n",
    "    with open(headings_file,'r') as filein, open(fileout+str(iteration),'w') as fileout:\n",
    "        copy = True\n",
    "        for line in filein:\n",
    "            if line.strip() == \"Direct\":\n",
    "                fileout.write(line)\n",
    "                copy == False\n",
    "                break\n",
    "            elif copy:\n",
    "                fileout.write(line)\n",
    "        # write the atomic positions to fileout\n",
    "        for line in positions:\n",
    "            fileout.write(' '.join(n for n in line)+'\\n')\n",
    "         "
   ]
  },
  {
   "cell_type": "code",
   "execution_count": 53,
   "metadata": {
    "collapsed": true
   },
   "outputs": [],
   "source": [
    "make_POSCAR(14)"
   ]
  },
  {
   "cell_type": "code",
   "execution_count": 44,
   "metadata": {
    "collapsed": false
   },
   "outputs": [],
   "source": []
  },
  {
   "cell_type": "code",
   "execution_count": null,
   "metadata": {
    "collapsed": false
   },
   "outputs": [],
   "source": [
    "\n"
   ]
  },
  {
   "cell_type": "code",
   "execution_count": null,
   "metadata": {
    "collapsed": false
   },
   "outputs": [],
   "source": []
  },
  {
   "cell_type": "code",
   "execution_count": null,
   "metadata": {
    "collapsed": true
   },
   "outputs": [],
   "source": []
  },
  {
   "cell_type": "code",
   "execution_count": null,
   "metadata": {
    "collapsed": true
   },
   "outputs": [],
   "source": []
  }
 ],
 "metadata": {
  "kernelspec": {
   "display_name": "Python 3",
   "language": "python",
   "name": "python3"
  },
  "language_info": {
   "codemirror_mode": {
    "name": "ipython",
    "version": 3
   },
   "file_extension": ".py",
   "mimetype": "text/x-python",
   "name": "python",
   "nbconvert_exporter": "python",
   "pygments_lexer": "ipython3",
   "version": "3.5.0"
  }
 },
 "nbformat": 4,
 "nbformat_minor": 2
}
